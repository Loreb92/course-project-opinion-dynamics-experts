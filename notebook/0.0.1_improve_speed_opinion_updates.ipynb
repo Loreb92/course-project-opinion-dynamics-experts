{
 "cells": [
  {
   "cell_type": "code",
   "execution_count": 1,
   "id": "691a9308",
   "metadata": {},
   "outputs": [],
   "source": [
    "import numpy as np\n",
    "import matplotlib.pyplot as plt\n",
    "from tqdm.notebook import tqdm\n",
    "\n",
    "import sys\n",
    "\n",
    "sys.path += ['../']\n",
    "\n",
    "from src.utils_network import generate_network\n",
    "from src.utils_model import initialize_model\n",
    "from src.simulate import update_opinions, rmsd_from_truth, score_opinion_updates"
   ]
  },
  {
   "cell_type": "code",
   "execution_count": 2,
   "id": "32b13621",
   "metadata": {},
   "outputs": [],
   "source": [
    "from scipy import sparse"
   ]
  },
  {
   "cell_type": "code",
   "execution_count": 3,
   "id": "c651b477",
   "metadata": {},
   "outputs": [],
   "source": [
    "def update_opinions_2(Xa, Xe, eps_a, eps_e, alpha_e, tau, A):\n",
    "    Na = Xa.shape[0]\n",
    "    X_all = np.hstack([Xa, Xe])\n",
    "    Xe = Xe[:, np.newaxis]\n",
    "    eps_all = np.hstack([eps_a, eps_e])[:, np.newaxis]\n",
    "    eps_e = eps_e[:, np.newaxis]\n",
    "\n",
    "    # TODO:\n",
    "    # - is it possible to make it faster? E.g., matrix formalism?\n",
    "    # - manage divisions by 0\n",
    "\n",
    "    # compute if pairwise differences of opinions under the confidence\n",
    "    delta_opinions_thresholded = sparse.csr_matrix(np.abs(np.subtract.outer(X_all, X_all)) \\\n",
    "                                               <= eps_all).astype(int)\n",
    "    \n",
    "    # update Xa\n",
    "    delta_opinions_thresholded_neigs = delta_opinions_thresholded.multiply(A)\n",
    "    #Xa_new = delta_opinions_thresholded_neigs * X_all[:, np.newaxis] / delta_opinions_thresholded_neigs.sum(axis=1)\n",
    "    #Xa_new = np.asarray(Xa_new).flatten()[:Na]\n",
    "    Xa_new = np.asarray(delta_opinions_thresholded_neigs * X_all[:, np.newaxis]).flatten()\n",
    "    n_neigs = np.asarray(delta_opinions_thresholded_neigs.sum(axis=1)).flatten()\n",
    "    Xa_new = np.where(n_neigs == 0, X_all, Xa_new / n_neigs)\n",
    "    Xa_new = Xa_new[:Na]\n",
    "    \n",
    "    \n",
    "    \n",
    "    # update Xe\n",
    "    delta_opinions_thresholded = delta_opinions_thresholded[Na:, Na:]\n",
    "    Xe_new = np.asarray(delta_opinions_thresholded * Xe / delta_opinions_thresholded.sum(axis=1))\n",
    "    Xe_new = np.where((np.abs(Xe_new - tau) <= eps_e),\n",
    "                      eps_e * tau + (1 - eps_e) * Xe_new,\n",
    "                      Xe_new).flatten()\n",
    "    \n",
    "\n",
    "    \n",
    "    \n",
    "    \n",
    "    \n",
    "    \"\"\"\n",
    "    # update Xa\n",
    "    delta_opinions_thresholded = sparse.csr_matrix(np.abs(np.subtract.outer(X_all, X_all)) \\\n",
    "                                               <= eps_all[:, np.newaxis]).astype(int)\n",
    "    delta_opinions_thresholded_neigs = delta_opinions_thresholded.multiply(A)\n",
    "    Xa_new = delta_opinions_thresholded_neigs * X_all[:, np.newaxis] / delta_opinions_thresholded_neigs.sum(axis=1)\n",
    "    Xa_new = np.asarray(Xa_new).flatten()[:Na]\n",
    "    \n",
    "    # update Xe\n",
    "    delta_opinions_thresholded = delta_opinions_thresholded[Na:, Na:]\n",
    "    Xe_new = delta_opinions_thresholded * Xe[:, np.newaxis] / np.asarray(delta_opinions_thresholded.sum(axis=1))\n",
    "    \n",
    "    Xe_new = np.where((np.abs(Xe_new - tau) <= eps_e[:, np.newaxis]), \n",
    "                     alpha_e[:, np.newaxis] * tau + (1 - alpha_e[:, np.newaxis]) * Xe_new,\n",
    "                     Xe_new)\n",
    "    \n",
    "    Xe_new = np.asarray(Xe_new).flatten()\n",
    "    \"\"\"\n",
    "    \n",
    "    return Xa_new, Xe_new\n"
   ]
  },
  {
   "cell_type": "markdown",
   "id": "eff64614",
   "metadata": {},
   "source": [
    "### Tests"
   ]
  },
  {
   "cell_type": "code",
   "execution_count": 4,
   "id": "0162421a",
   "metadata": {},
   "outputs": [],
   "source": [
    "RNG = np.random.RandomState(42)"
   ]
  },
  {
   "cell_type": "code",
   "execution_count": 5,
   "id": "30833e78",
   "metadata": {},
   "outputs": [],
   "source": [
    "# set input params\n",
    "N = 1000\n",
    "frac_experts = 0.1\n",
    "tau = 0.9\n",
    "\n",
    "Ne = int(N * frac_experts)\n",
    "Na = N - Ne\n",
    "\n",
    "# generate syntetic network\n",
    "network_params = 'ER_20'\n",
    "A = generate_network(N, Ne, network_params, seed=RNG)\n",
    "\n",
    "# initialize opinions and confidences\n",
    "model_param_dict = {\n",
    "    'init_opinions' : {'distrib' : 'uniform'},\n",
    "    'init_confidence' : {'distrib' : 'const', 'confidence' : 0.3},\n",
    "    'init_alpha_experts' : {'distrib' : 'const', 'alpha' : 0.2}\n",
    "}\n",
    "init_opinions_params = 'uniform'\n",
    "init_confidence_params = 'const_0.2'\n",
    "init_alpha_experts_params = 'const_0.2'\n",
    "Xa, Xe, eps_a, eps_e, alpha_e = initialize_model(Na, Ne, init_opinions_params, \n",
    "                                                 init_confidence_params, init_alpha_experts_params, seed=RNG)\n"
   ]
  },
  {
   "cell_type": "code",
   "execution_count": 6,
   "id": "8cea98af",
   "metadata": {},
   "outputs": [
    {
     "name": "stderr",
     "output_type": "stream",
     "text": [
      "/mnt/sdb1/lorenzo/Courses/IntroCSS/course-project-opinion-dynamics-experts/notebook/../src/simulate.py:32: RuntimeWarning: invalid value encountered in divide\n",
      "  Xa_new = np.where(n_neigs == 0, X_all, Xa_new / n_neigs)\n"
     ]
    },
    {
     "name": "stdout",
     "output_type": "stream",
     "text": [
      "27.7 ms ± 550 µs per loop (mean ± std. dev. of 7 runs, 10 loops each)\n"
     ]
    }
   ],
   "source": [
    "%%timeit\n",
    "Xa_new, Xe_new = update_opinions(Xa, Xe, eps_a, eps_e, alpha_e, tau, A)"
   ]
  },
  {
   "cell_type": "code",
   "execution_count": 7,
   "id": "c82053e3",
   "metadata": {},
   "outputs": [
    {
     "name": "stderr",
     "output_type": "stream",
     "text": [
      "/tmp/ipykernel_39978/2135971078.py:22: RuntimeWarning: invalid value encountered in divide\n",
      "  Xa_new = np.where(n_neigs == 0, X_all, Xa_new / n_neigs)\n"
     ]
    },
    {
     "name": "stdout",
     "output_type": "stream",
     "text": [
      "27.8 ms ± 351 µs per loop (mean ± std. dev. of 7 runs, 10 loops each)\n"
     ]
    }
   ],
   "source": [
    "%%timeit\n",
    "Xa_new, Xe_new = update_opinions_2(Xa, Xe, eps_a, eps_e, alpha_e, tau, A)"
   ]
  },
  {
   "cell_type": "code",
   "execution_count": 8,
   "id": "f4ac180b",
   "metadata": {},
   "outputs": [],
   "source": [
    "Xa_new, Xe_new = update_opinions(Xa, Xe, eps_a, eps_e, alpha_e, tau, A)"
   ]
  },
  {
   "cell_type": "code",
   "execution_count": 9,
   "id": "0a6d2f33",
   "metadata": {},
   "outputs": [
    {
     "name": "stderr",
     "output_type": "stream",
     "text": [
      "/tmp/ipykernel_39978/2135971078.py:22: RuntimeWarning: invalid value encountered in divide\n",
      "  Xa_new = np.where(n_neigs == 0, X_all, Xa_new / n_neigs)\n"
     ]
    }
   ],
   "source": [
    "Xa_new_2, Xe_new_2 = update_opinions_2(Xa, Xe, eps_a, eps_e, alpha_e, tau, A)"
   ]
  },
  {
   "cell_type": "code",
   "execution_count": 10,
   "id": "9c42bda3",
   "metadata": {},
   "outputs": [
    {
     "data": {
      "image/png": "[encoded data removed]",
      "text/plain": [
       "<Figure size 640x480 with 1 Axes>"
      ]
     },
     "metadata": {},
     "output_type": "display_data"
    }
   ],
   "source": [
    "plt.hist(Xa_new - np.asarray(Xa_new_2).flatten());"
   ]
  },
  {
   "cell_type": "code",
   "execution_count": 11,
   "id": "96a29422",
   "metadata": {},
   "outputs": [
    {
     "data": {
      "image/png": "[encoded data removed]",
      "text/plain": [
       "<Figure size 640x480 with 1 Axes>"
      ]
     },
     "metadata": {},
     "output_type": "display_data"
    }
   ],
   "source": [
    "plt.hist(Xe_new - Xe_new_2);"
   ]
  },
  {
   "cell_type": "code",
   "execution_count": null,
   "id": "abc876be",
   "metadata": {},
   "outputs": [],
   "source": []
  }
 ],
 "metadata": {
  "kernelspec": {
   "display_name": "project-opinion-dynamics-experts",
   "language": "python",
   "name": "project-opinion-dynamics-experts"
  },
  "language_info": {
   "codemirror_mode": {
    "name": "ipython",
    "version": 3
   },
   "file_extension": ".py",
   "mimetype": "text/x-python",
   "name": "python",
   "nbconvert_exporter": "python",
   "pygments_lexer": "ipython3",
   "version": "3.10.8"
  }
 },
 "nbformat": 4,
 "nbformat_minor": 5
}
